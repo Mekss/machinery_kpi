{
 "cells": [
  {
   "cell_type": "code",
   "execution_count": 6,
   "metadata": {},
   "outputs": [],
   "source": [
    "from src.helpers import json_to_owl, parse_rdf_constraints, extract_relevant_constraints\n",
    "import json\n",
    "import re\n",
    "from rdflib import Graph, Namespace, Literal, RDF, RDFS, URIRef\n",
    "from rdflib.namespace import XSD, OWL\n",
    "import datetime\n",
    "from logs_simulation.simulation_process import *\n",
    "import sqlite3\n",
    "import csv\n",
    "\n",
    "with open(\"visuals/HSL248.json\", \"r\", encoding=\"utf-8\") as f:\n",
    "    file_json = json.load(f)\n",
    "\n",
    "graph = json_to_owl(file_json, namespace=\"urn:crawlercrane-ontology#\")\n",
    "\n",
    "output_file = \"ontologies/crawler_crane_ontology.ttl\"\n",
    "\n",
    "with open(output_file, \"w\", encoding=\"utf-8\") as out_file:\n",
    "    out_file.write(graph.serialize(format=\"turtle\"))"
   ]
  },
  {
   "cell_type": "code",
   "execution_count": 7,
   "metadata": {},
   "outputs": [
    {
     "data": {
      "text/plain": [
       "<Graph identifier=Nb5b3a6d09eb64f159246d0b5eeab348f (<class 'rdflib.graph.Graph'>)>"
      ]
     },
     "execution_count": 7,
     "metadata": {},
     "output_type": "execute_result"
    }
   ],
   "source": [
    "g = Graph()\n",
    "output_file = \"ontologies/crawler_crane_ontology.ttl\"\n",
    "with open(output_file, \"w\", encoding=\"utf-8\") as out_file:\n",
    "    out_file.write(graph.serialize(format=\"turtle\"))\n",
    "g.parse(\"ontologies/crawler_crane_ontology.ttl\", format=\"turtle\")"
   ]
  },
  {
   "cell_type": "code",
   "execution_count": 8,
   "metadata": {},
   "outputs": [],
   "source": [
    "rdf_constraints = parse_rdf_constraints(output_file)"
   ]
  },
  {
   "cell_type": "code",
   "execution_count": 9,
   "metadata": {},
   "outputs": [],
   "source": [
    "component_sensor_definitions = {}\n",
    "for comp_iri, constraints in rdf_constraints.items():\n",
    "    sensor_defs = extract_relevant_constraints(constraints)\n",
    "    component_sensor_definitions[comp_iri] = sensor_defs"
   ]
  },
  {
   "cell_type": "code",
   "execution_count": 10,
   "metadata": {},
   "outputs": [
    {
     "name": "stdout",
     "output_type": "stream",
     "text": [
      "(1, '2025-01-12 15:07:14', 1, 'urn:crawlercrane-ontology#Swing_System', 'swingspeed', 0.7255944417257613, 'rpm')\n",
      "(2, '2025-01-12 15:08:14', 1, 'urn:crawlercrane-ontology#Luffing_Jib', 'luffingjiblength', 21.636292554415622, 'm')\n",
      "(3, '2025-01-12 15:09:14', 1, 'urn:crawlercrane-ontology#Hydraulic_System', 'hydraulicpressure', 205.07369264538053, 'bar')\n",
      "(4, '2025-01-12 15:10:14', 1, 'urn:crawlercrane-ontology#Load_Hoist_Drums', 'wireropediameter', 19.092855081801876, 'mm')\n",
      "(5, '2025-01-12 15:11:14', 1, 'urn:crawlercrane-ontology#Luffing_Boom', 'luffingboomlength', 16.12588575204922, 'm')\n",
      "(6, '2025-01-12 15:12:14', 1, 'urn:crawlercrane-ontology#Rated_Capacity_Limiter_System', 'misc_sensor', 0.7065892272708995, 'N/A')\n",
      "(7, '2025-01-12 15:13:14', 1, 'urn:crawlercrane-ontology#Counterweight', 'counterweight', 6.6535313244765995, '470 kg')\n",
      "(8, '2025-01-12 15:14:14', 1, 'urn:crawlercrane-ontology#Fuel_Tank', 'fueltanklevel', 223.8931618783332, 'L')\n",
      "(9, '2025-01-12 15:15:14', 1, 'urn:crawlercrane-ontology#Operator_Cab', 'heateroutput', 2.430995686402868, 'kW')\n",
      "(10, '2025-01-12 15:16:14', 1, 'urn:crawlercrane-ontology#Counterweight', 'counterweight', 50.11358828078718, '470 kg')\n",
      "(11, '2025-01-12 15:17:14', 1, 'urn:crawlercrane-ontology#Boom_Hoist_Drum', 'boomangle', 63.58079109373534, '°')\n",
      "(12, '2025-01-12 15:18:14', 1, 'urn:crawlercrane-ontology#Luffing_Boom', 'luffingboomlength', 25.896537223755676, 'm')\n",
      "(13, '2025-01-12 15:19:14', 1, 'urn:crawlercrane-ontology#Load_Hoist_Drums', 'wireropediameter', 1.6122524677075585, 'mm')\n",
      "(14, '2025-01-12 15:20:14', 1, 'urn:crawlercrane-ontology#Carbody', 'carbodyclearance', 2.3154556857278674, 'm')\n",
      "(15, '2025-01-12 15:21:14', 1, 'urn:crawlercrane-ontology#Engine', 'enginerpmatfullloadspeed', 438.0440568654502, 'rpm')\n",
      "(16, '2025-01-12 15:22:14', 1, 'urn:crawlercrane-ontology#Load_Hoist_Drums', 'wireropediameter', 0.772457353864912, 'mm')\n",
      "(17, '2025-01-12 15:23:14', 1, 'urn:crawlercrane-ontology#Boom_Hoist_Drum', 'boomangle', 46.99586889590336, '°')\n",
      "(18, '2025-01-12 15:24:14', 1, 'urn:crawlercrane-ontology#Counterweight', 'counterweight', 49.970768462676176, '470 kg')\n",
      "(19, '2025-01-12 15:25:14', 1, 'urn:crawlercrane-ontology#Luffing_Jib', 'luffingjiblength', 8.34226961622875, 'm')\n",
      "(20, '2025-01-12 15:26:14', 1, 'urn:crawlercrane-ontology#Load_Hoist_Drums', 'wireropediameter', 18.85885985426471, 'mm')\n",
      "Total rows inserted: 10000\n"
     ]
    }
   ],
   "source": [
    "num_machines = 10\n",
    "rows_per_machine = 1000\n",
    "total_rows = num_machines * rows_per_machine\n",
    "\n",
    "all_components = list(rdf_constraints.keys())\n",
    "\n",
    "start_time = datetime.datetime.now()\n",
    "\n",
    "connection = sqlite3.connect(\"logs_simulation/machine_data.db\")\n",
    "cursor = connection.cursor()\n",
    "row_count = 0\n",
    "for machine_id in range(1, num_machines + 1):\n",
    "    for i in range(rows_per_machine):\n",
    "        # 1) Pick a random component\n",
    "        component_iri = random.choice(all_components)\n",
    "        comp_sensors = component_sensor_definitions[component_iri]\n",
    "\n",
    "        # If no extracted sensors, skip this row or produce a dummy sensor\n",
    "        if not comp_sensors:\n",
    "            # Insert a dummy sensor reading to show everything has \"some telemetry\"\n",
    "            sensor_name = \"misc_sensor\"\n",
    "            sensor_value = random.uniform(0, 1)\n",
    "            sensor_unit = \"N/A\"\n",
    "            dt_str = random_timestamp(start_time, row_count)\n",
    "\n",
    "            cursor.execute(\n",
    "                \"\"\"\n",
    "                INSERT INTO telemetry (timestamp, machine_id, component, sensor_name, sensor_value, sensor_unit)\n",
    "                VALUES (?, ?, ?, ?, ?, ?)\n",
    "            \"\"\",\n",
    "                (dt_str, machine_id, component_iri, sensor_name, sensor_value, sensor_unit),\n",
    "            )\n",
    "\n",
    "        else:\n",
    "            sensor_tuple = random.choice(comp_sensors)\n",
    "            (raw_key, sensor_name, max_val, min_val) = sensor_tuple\n",
    "\n",
    "            dt_str = random_timestamp(start_time, row_count)\n",
    "            sensor_value = generate_sensor_value(sensor_tuple)\n",
    "\n",
    "            # The original RDF says e.g. 'unit': 'm' or 'rpm'. Attempt to retrieve:\n",
    "            sensor_unit = rdf_constraints[component_iri][raw_key].get(\"unit\", \"N/A\")\n",
    "\n",
    "            cursor.execute(\n",
    "                \"\"\"\n",
    "                INSERT INTO telemetry (timestamp, machine_id, component, sensor_name, sensor_value, sensor_unit)\n",
    "                VALUES (?, ?, ?, ?, ?, ?)\n",
    "            \"\"\",\n",
    "                (dt_str, machine_id, component_iri, sensor_name, sensor_value, sensor_unit),\n",
    "            )\n",
    "\n",
    "        row_count += 1\n",
    "\n",
    "connection.commit()\n",
    "\n",
    "\n",
    "# -------------------------------------------------------\n",
    "# 5) Show some rows from the in-memory table\n",
    "# -------------------------------------------------------\n",
    "cursor.execute(\"SELECT * FROM telemetry LIMIT 20\")\n",
    "rows = cursor.fetchall()\n",
    "for r in rows:\n",
    "    print(r)\n",
    "\n",
    "print(f\"Total rows inserted: {row_count}\")\n",
    "\n",
    "\n",
    "# import to csv file for further references\n",
    "with open(\"logs_simulation/logs/dummy_telemetry.csv\", \"w\", newline=\"\") as f:\n",
    "    writer = csv.writer(f)\n",
    "    writer.writerow([desc[0] for desc in cursor.description])  # column headers\n",
    "    writer.writerows(cursor.execute(\"SELECT * FROM telemetry\"))\n",
    "\n",
    "# Done!\n",
    "connection.close()"
   ]
  },
  {
   "cell_type": "code",
   "execution_count": 13,
   "metadata": {},
   "outputs": [
    {
     "name": "stdout",
     "output_type": "stream",
     "text": [
      "(1001, '2025-01-13 07:47:14', 2, 'urn:crawlercrane-ontology#Fuel_Tank', 'fueltanklevel', 397.13590231176295, 'L')\n",
      "(1002, '2025-01-13 07:48:14', 2, 'urn:crawlercrane-ontology#Tubular_Jib', 'jiblength', 21.88587568189134, 'm')\n",
      "(1003, '2025-01-13 07:49:14', 2, 'urn:crawlercrane-ontology#Conventional_Tube_Boom', 'boomlength', 50.43618989831721, 'm')\n",
      "(1004, '2025-01-13 07:50:14', 2, 'urn:crawlercrane-ontology#Load_Hoist_Drums', 'wireropediameter', 19.69688312114644, 'mm')\n",
      "(1005, '2025-01-13 07:51:14', 2, 'urn:crawlercrane-ontology#Hydraulic_Pumps', 'flowrate', 124.86378090331152, 'L/min')\n",
      "Total rows inserted: 10000\n"
     ]
    }
   ],
   "source": [
    "connection = sqlite3.connect(\"logs_simulation/machine_data.db\")\n",
    "cursor = connection.cursor()\n",
    "cursor.execute(\"SELECT * FROM telemetry where machine_id=2 limit 5\")\n",
    "rows = cursor.fetchall()\n",
    "for r in rows:\n",
    "    print(r)\n",
    "\n",
    "print(f\"Total rows inserted: {row_count}\")\n",
    "connection.close()"
   ]
  },
  {
   "cell_type": "code",
   "execution_count": null,
   "metadata": {},
   "outputs": [],
   "source": []
  }
 ],
 "metadata": {
  "kernelspec": {
   "display_name": ".venv",
   "language": "python",
   "name": "python3"
  },
  "language_info": {
   "codemirror_mode": {
    "name": "ipython",
    "version": 3
   },
   "file_extension": ".py",
   "mimetype": "text/x-python",
   "name": "python",
   "nbconvert_exporter": "python",
   "pygments_lexer": "ipython3",
   "version": "3.11.9"
  }
 },
 "nbformat": 4,
 "nbformat_minor": 2
}
